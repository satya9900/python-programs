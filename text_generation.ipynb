{
 "cells": [
  {
   "cell_type": "code",
   "execution_count": 20,
   "id": "91896321",
   "metadata": {},
   "outputs": [
    {
     "name": "stderr",
     "output_type": "stream",
     "text": [
      "[nltk_data] Downloading package stopwords to\n",
      "[nltk_data]     C:\\Users\\user\\AppData\\Roaming\\nltk_data...\n",
      "[nltk_data]   Unzipping corpora\\stopwords.zip.\n"
     ]
    }
   ],
   "source": [
    "#import dependencies\n",
    "import numpy\n",
    "import sys\n",
    "import nltk\n",
    "nltk.download('stopwords')\n",
    "from nltk.tokenize import RegexpTokenizer\n",
    "from nltk.corpus import stopwords\n",
    "from keras.models import Sequential\n",
    "from keras.layers import Dense,Dropout,LSTM\n",
    "from keras.utils import np_utils\n",
    "from keras.callbacks import ModelCheckpoint"
   ]
  },
  {
   "cell_type": "code",
   "execution_count": 21,
   "id": "8928a93c",
   "metadata": {},
   "outputs": [],
   "source": [
    "#load data\n",
    "file=open(\"frankenstein.txt\",encoding=\"utf8\").read()"
   ]
  },
  {
   "cell_type": "code",
   "execution_count": 22,
   "id": "70501960",
   "metadata": {},
   "outputs": [],
   "source": [
    "#standardaziation\n",
    "#tokenization is the process of breaking a stream text up into\n",
    "#words phrases symbols or other meaningful elements\n",
    "def tokenize_words(input):\n",
    "    #lowercase everything to standardize it\n",
    "    input=input.lower()\n",
    "    \n",
    "    #initiating the tokenizer\n",
    "    tokenizer=RegexpTokenizer(r'\\w+')\n",
    "    \n",
    "    #tokenizing the text into the tokens\n",
    "    tokens=tokenizer.tokenize(input)\n",
    "    \n",
    "    #filtering the stopwords using the lambda\n",
    "    filtered=filter(lambda token:token not in stopwords.words('english'),tokens)\n",
    "    return \"\".join(filtered)\n",
    "\n",
    "#process the input\n",
    "processed_inputs=tokenize_words(file)"
   ]
  },
  {
   "cell_type": "code",
   "execution_count": 30,
   "id": "2e611661",
   "metadata": {},
   "outputs": [],
   "source": [
    "#chars to numbers\n",
    "chars=sorted(list(set(processed_inputs)))\n",
    "char_to_num=dict((c,i) for i,c in enumerate(chars))"
   ]
  },
  {
   "cell_type": "code",
   "execution_count": 31,
   "id": "838405cc",
   "metadata": {},
   "outputs": [
    {
     "name": "stdout",
     "output_type": "stream",
     "text": [
      "Total number of characters: 220857\n",
      "Total vocab: 42\n"
     ]
    }
   ],
   "source": [
    "# check if words to chars or chars to num (?!) has worked?\n",
    "input_len = len(processed_inputs)\n",
    "vocab_len = len (chars)\n",
    "print(\"Total number of characters:\", input_len)\n",
    "print(\"Total vocab:\", vocab_len)"
   ]
  },
  {
   "cell_type": "code",
   "execution_count": 32,
   "id": "3523dc66",
   "metadata": {},
   "outputs": [],
   "source": [
    "#seq length\n",
    "seq_length=100\n",
    "x_data=[]\n",
    "y_data=[]"
   ]
  },
  {
   "cell_type": "code",
   "execution_count": 33,
   "id": "b840dd64",
   "metadata": {},
   "outputs": [
    {
     "name": "stdout",
     "output_type": "stream",
     "text": [
      "Total Patterns: 220757\n"
     ]
    }
   ],
   "source": [
    "# loop through the sequence\n",
    "for i in range(0, input_len - seq_length, 1):\n",
    "    in_seq = processed_inputs[i: i + seq_length]\n",
    "    out_seq = processed_inputs[i+seq_length]\n",
    "    x_data.append([char_to_num[char] for char in in_seq])\n",
    "    y_data.append(char_to_num[out_seq])\n",
    "\n",
    "n_patterns = len(x_data)\n",
    "print(\"Total Patterns:\", n_patterns)"
   ]
  },
  {
   "cell_type": "code",
   "execution_count": 34,
   "id": "9b9909f8",
   "metadata": {},
   "outputs": [],
   "source": [
    "# convert input sequence to np array and so on\n",
    "X=numpy.reshape(x_data,(n_patterns,seq_length, 1))\n",
    "X= X/float (vocab_len)"
   ]
  },
  {
   "cell_type": "code",
   "execution_count": 35,
   "id": "78948ac8",
   "metadata": {},
   "outputs": [],
   "source": [
    "#one-hot encoding our label data\n",
    "y = np_utils.to_categorical(y_data)"
   ]
  },
  {
   "cell_type": "code",
   "execution_count": 36,
   "id": "a47291e5",
   "metadata": {},
   "outputs": [],
   "source": [
    "# creating the model\n",
    "model = Sequential()\n",
    "model.add(LSTM(256, input_shape=(X.shape[1],X.shape[2]), return_sequences=True) )\n",
    "model.add(Dropout(0.2))\n",
    "model.add(LSTM(256, return_sequences=True))\n",
    "model.add(Dropout(0.2))\n",
    "model.add(LSTM(128))\n",
    "model.add(Dropout(0.2))\n",
    "model.add(Dense(y.shape[1], activation='softmax'))"
   ]
  },
  {
   "cell_type": "code",
   "execution_count": 37,
   "id": "c913a575",
   "metadata": {},
   "outputs": [],
   "source": [
    "model.compile(loss='categorical_crossentropy',optimizer='adam')"
   ]
  },
  {
   "cell_type": "code",
   "execution_count": 41,
   "id": "0e6c0394",
   "metadata": {},
   "outputs": [],
   "source": [
    "#saving weights\n",
    "filepath=\"model_weights_saved.hdf5\"\n",
    "checkpoint=ModelCheckpoint(filepath,monitor='loss',verbose=1,save_best_only=True,mode='min')\n",
    "desired_callbacks=[checkpoint]"
   ]
  },
  {
   "cell_type": "code",
   "execution_count": 42,
   "id": "28afab55",
   "metadata": {},
   "outputs": [
    {
     "name": "stdout",
     "output_type": "stream",
     "text": [
      "Epoch 1/4\n",
      "863/863 [==============================] - 1016s 1s/step - loss: 2.9308\n",
      "\n",
      "Epoch 00001: loss improved from inf to 2.93084, saving model to model_weights_saved.hdf5\n",
      "Epoch 2/4\n",
      "863/863 [==============================] - 1029s 1s/step - loss: 2.9082\n",
      "\n",
      "Epoch 00002: loss improved from 2.93084 to 2.90825, saving model to model_weights_saved.hdf5\n",
      "Epoch 3/4\n",
      "863/863 [==============================] - 974s 1s/step - loss: 2.9046\n",
      "\n",
      "Epoch 00003: loss improved from 2.90825 to 2.90462, saving model to model_weights_saved.hdf5\n",
      "Epoch 4/4\n",
      "863/863 [==============================] - 1060s 1s/step - loss: 2.8745\n",
      "\n",
      "Epoch 00004: loss improved from 2.90462 to 2.87449, saving model to model_weights_saved.hdf5\n"
     ]
    },
    {
     "data": {
      "text/plain": [
       "<keras.callbacks.History at 0x1d34f4150d0>"
      ]
     },
     "execution_count": 42,
     "metadata": {},
     "output_type": "execute_result"
    }
   ],
   "source": [
    "#fitting the model and let it train\n",
    "model.fit(X,y,epochs=4,batch_size=256,callbacks=desired_callbacks)"
   ]
  },
  {
   "cell_type": "code",
   "execution_count": 44,
   "id": "474f3d01",
   "metadata": {},
   "outputs": [],
   "source": [
    "#recompile model with the saved weights\n",
    "filename=\"model_weights_saved.hdf5\"\n",
    "model.load_weights (filename)\n",
    "model.compile(loss='categorical_crossentropy', optimizer='adam')"
   ]
  },
  {
   "cell_type": "code",
   "execution_count": 46,
   "id": "6ab55867",
   "metadata": {},
   "outputs": [],
   "source": [
    "# output of the model back into characters\n",
    "num_to_char=dict((i,c) for i,c in enumerate(chars))"
   ]
  },
  {
   "cell_type": "code",
   "execution_count": 58,
   "id": "7e3c9050",
   "metadata": {},
   "outputs": [
    {
     "name": "stdout",
     "output_type": "stream",
     "text": [
      "Random Seed:\n",
      "\" rablywarmthusprovidedresolvedresidehovelsomethingoccurmightalterdeterminationindeedparadisecomparedb \"\n"
     ]
    }
   ],
   "source": [
    "#random seed to help generate\n",
    "start=numpy.random.randint(0, len(x_data) - 1)\n",
    "pattern=x_data[start]\n",
    "print(\"Random Seed:\")\n",
    "print(\"\\\"\", ''.join([num_to_char[value] for value in pattern]), \"\\\"\")"
   ]
  },
  {
   "cell_type": "code",
   "execution_count": 60,
   "id": "b7d5ff80",
   "metadata": {},
   "outputs": [
    {
     "name": "stdout",
     "output_type": "stream",
     "text": [
      "rereerereerereerereerereerereerereerereerereerereerereerereerereerereerereerereerereerereerereerereerereerereerereerereerereerereerereerereerereerereerereerereerereerereerereerereerereerereerereerereerereerereerereerereerereerereerereerereerereerereerereerereerereerereerereerereerereerereerereerereerereerereerereerereerereerereerereerereerereerereerereerereerereerereerereerereerereerereerereerereerereerereerereerereerereerereerereerereerereerereerereerereerereerereerereerereerereerereerereerereerereerereerereerereerereerereerereerereerereerereerereerereerereerereerereerereerereerereerereerereerereerereerereerereerereerereerereerereerereerereerereerereerereerereerereerereerereerereerereerereerereerereerereerereerereerereerereerereerereerereerereerereerereerereerereerereerereerereerereerereerereerereerereerereerereerereerereerereerereerereerereerereerereerereerereerereerereerereerereerereerereerereerereerereerereerereerereerereerereerereerereerereerereerereerereerereerereerereerereereree"
     ]
    }
   ],
   "source": [
    "# generate the text\n",
    "for i in range(1000):\n",
    "    x = numpy.reshape(pattern,(1, len(pattern), 1))\n",
    "    x = x/float(vocab_len)\n",
    "    prediction = model.predict(x, verbose=0)\n",
    "    index = numpy.argmax(prediction)\n",
    "    result =num_to_char[index]\n",
    "    seq_in =[num_to_char[value] for value in pattern]\n",
    "    sys.stdout.write(result)\n",
    "    pattern.append (index)\n",
    "    pattern= pattern[1:len(pattern)]\n",
    "#train the model epochs for 100 times for a better text generation"
   ]
  }
 ],
 "metadata": {
  "kernelspec": {
   "display_name": "Python 3 (ipykernel)",
   "language": "python",
   "name": "python3"
  },
  "language_info": {
   "codemirror_mode": {
    "name": "ipython",
    "version": 3
   },
   "file_extension": ".py",
   "mimetype": "text/x-python",
   "name": "python",
   "nbconvert_exporter": "python",
   "pygments_lexer": "ipython3",
   "version": "3.9.7"
  }
 },
 "nbformat": 4,
 "nbformat_minor": 5
}
